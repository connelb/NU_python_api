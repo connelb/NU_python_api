{
 "cells": [
  {
   "cell_type": "code",
   "execution_count": 101,
   "metadata": {},
   "outputs": [],
   "source": [
    "# import dependencies\n",
    "from citipy import citipy\n",
    "import matplotlib.pyplot as plt\n",
    "import pandas as pd\n",
    "import numpy as np\n",
    "import openweathermapy.core as owm\n",
    "import json\n",
    "import requests\n",
    "from env.config import api_key\n",
    "import random as random\n",
    "from pprint import pprint"
   ]
  },
  {
   "cell_type": "code",
   "execution_count": 102,
   "metadata": {},
   "outputs": [],
   "source": [
    "#1. Randomly select at least 500 unique (non-repeat) cities based on latitude and longitude.\n",
    "\n",
    "coordinates = []\n",
    "\n",
    "# Create the bounding box\n",
    "#set latitude values - X values\n",
    "miny = -45\n",
    "maxy = 45\n",
    "\n",
    "#set longitude values - Y values\n",
    "minx = -180\n",
    "maxx = 180"
   ]
  },
  {
   "cell_type": "code",
   "execution_count": 103,
   "metadata": {},
   "outputs": [],
   "source": [
    "#2. lookup citipy based on values and get cities\n",
    "cities = []\n",
    "cities_found_count = 0\n",
    "\n",
    "def verify_unique_city(city):\n",
    "    return city not in cities\n",
    "\n",
    "\n",
    "def find_city(lng, lat):\n",
    "    return citipy.nearest_city(lat, lon)\n",
    "\n",
    "\n",
    "while cities_found_count<500:\n",
    "    lat, lon =(random.uniform(minx,maxx),random.uniform(miny,maxy))\n",
    "    city = citipy.nearest_city(lat, lon)\n",
    "    if verify_unique_city(city)is True:\n",
    "        cities.append(city)\n",
    "        cities_found_count = cities_found_count +1\n",
    "\n",
    "\n",
    "city_names = []   \n",
    "for city in cities:\n",
    "    city_names.append(city.city_name)"
   ]
  },
  {
   "cell_type": "code",
   "execution_count": 104,
   "metadata": {},
   "outputs": [],
   "source": [
    "#3.Perform a weather check on each of the cities using a series of successive API calls.\n",
    "\n",
    "url = \"http://api.openweathermap.org/data/2.5/weather?\"\n",
    "\n",
    "city_ids = []\n",
    "city_lon = []\n",
    "city_lat = []\n",
    "city_urls =[]\n",
    "city_max_temps =[]\n",
    "city_humidities =[]\n",
    "city_cloudiness =[]\n",
    "city_wind_speeds =[]\n",
    "city_urls =[]\n",
    "\n",
    "for city_name in city_names:\n",
    "    # Build query URL\n",
    "    query_url = url + \"appid=\" + api_key + \"&q=\" + city_name\n",
    "    city_urls.append(query_url)\n",
    "\n",
    "    # Get weather data\n",
    "    weather_response = requests.get(query_url)\n",
    "    weather_json = weather_response.json()\n",
    "    \n",
    "#     pprint(weather_json)\n",
    "\n",
    "    try:\n",
    "        city_ids.append(weather_json['id'])\n",
    "    except KeyError:\n",
    "        city_ids.append(\"\")\n",
    "        \n",
    "    try:\n",
    "        city_lat.append(int(weather_json['coord']['lat']))\n",
    "    except KeyError:\n",
    "        city_lat.append(np.nan)\n",
    "        \n",
    "    try:\n",
    "        city_lon.append(int(weather_json['coord']['lon']))\n",
    "    except KeyError:\n",
    "        city_lon.append(np.nan)\n",
    "        \n",
    "    try:\n",
    "        city_max_temps.append(weather_json['main']['temp_max'])\n",
    "    except KeyError:\n",
    "        city_max_temps.append(np.nan)\n",
    "        \n",
    "    try:\n",
    "        city_humidities.append(weather_json['main']['humidity'])\n",
    "    except KeyError:\n",
    "        city_humidities.append(np.nan)\n",
    "        \n",
    "    try:\n",
    "        city_cloudiness.append(weather_json['clouds']['all'])\n",
    "    except KeyError:\n",
    "        city_cloudiness.append(\"\")\n",
    "        \n",
    "    try:\n",
    "        city_wind_speeds.append(weather_json['wind']['speed'])\n",
    "    except KeyError:\n",
    "        city_wind_speeds.append(np.nan)\n"
   ]
  },
  {
   "cell_type": "code",
   "execution_count": 105,
   "metadata": {},
   "outputs": [
    {
     "data": {
      "text/html": [
       "<div>\n",
       "<style scoped>\n",
       "    .dataframe tbody tr th:only-of-type {\n",
       "        vertical-align: middle;\n",
       "    }\n",
       "\n",
       "    .dataframe tbody tr th {\n",
       "        vertical-align: top;\n",
       "    }\n",
       "\n",
       "    .dataframe thead th {\n",
       "        text-align: right;\n",
       "    }\n",
       "</style>\n",
       "<table border=\"1\" class=\"dataframe\">\n",
       "  <thead>\n",
       "    <tr style=\"text-align: right;\">\n",
       "      <th></th>\n",
       "      <th>City</th>\n",
       "      <th>cloudiness</th>\n",
       "      <th>humidity</th>\n",
       "      <th>id</th>\n",
       "      <th>latitude</th>\n",
       "      <th>longitude</th>\n",
       "      <th>max_temp</th>\n",
       "      <th>url</th>\n",
       "      <th>wind_speed</th>\n",
       "    </tr>\n",
       "  </thead>\n",
       "  <tbody>\n",
       "    <tr>\n",
       "      <th>0</th>\n",
       "      <td>qaanaaq</td>\n",
       "      <td>0</td>\n",
       "      <td>83.0</td>\n",
       "      <td>3831208</td>\n",
       "      <td>77.0</td>\n",
       "      <td>-69.0</td>\n",
       "      <td>265.426</td>\n",
       "      <td>http://api.openweathermap.org/data/2.5/weather...</td>\n",
       "      <td>2.77</td>\n",
       "    </tr>\n",
       "    <tr>\n",
       "      <th>1</th>\n",
       "      <td>hermanus</td>\n",
       "      <td>44</td>\n",
       "      <td>86.0</td>\n",
       "      <td>3366880</td>\n",
       "      <td>-34.0</td>\n",
       "      <td>19.0</td>\n",
       "      <td>288.026</td>\n",
       "      <td>http://api.openweathermap.org/data/2.5/weather...</td>\n",
       "      <td>5.02</td>\n",
       "    </tr>\n",
       "    <tr>\n",
       "      <th>2</th>\n",
       "      <td>chuy</td>\n",
       "      <td>80</td>\n",
       "      <td>99.0</td>\n",
       "      <td>3443061</td>\n",
       "      <td>-33.0</td>\n",
       "      <td>-53.0</td>\n",
       "      <td>287.726</td>\n",
       "      <td>http://api.openweathermap.org/data/2.5/weather...</td>\n",
       "      <td>4.67</td>\n",
       "    </tr>\n",
       "    <tr>\n",
       "      <th>3</th>\n",
       "      <td>qaqortoq</td>\n",
       "      <td>75</td>\n",
       "      <td>64.0</td>\n",
       "      <td>3420846</td>\n",
       "      <td>60.0</td>\n",
       "      <td>-46.0</td>\n",
       "      <td>274.150</td>\n",
       "      <td>http://api.openweathermap.org/data/2.5/weather...</td>\n",
       "      <td>2.60</td>\n",
       "    </tr>\n",
       "    <tr>\n",
       "      <th>4</th>\n",
       "      <td>xiropotamos</td>\n",
       "      <td>75</td>\n",
       "      <td>88.0</td>\n",
       "      <td>733818</td>\n",
       "      <td>41.0</td>\n",
       "      <td>24.0</td>\n",
       "      <td>291.150</td>\n",
       "      <td>http://api.openweathermap.org/data/2.5/weather...</td>\n",
       "      <td>1.50</td>\n",
       "    </tr>\n",
       "  </tbody>\n",
       "</table>\n",
       "</div>"
      ],
      "text/plain": [
       "          City cloudiness  humidity       id  latitude  longitude  max_temp  \\\n",
       "0      qaanaaq          0      83.0  3831208      77.0      -69.0   265.426   \n",
       "1     hermanus         44      86.0  3366880     -34.0       19.0   288.026   \n",
       "2         chuy         80      99.0  3443061     -33.0      -53.0   287.726   \n",
       "3     qaqortoq         75      64.0  3420846      60.0      -46.0   274.150   \n",
       "4  xiropotamos         75      88.0   733818      41.0       24.0   291.150   \n",
       "\n",
       "                                                 url  wind_speed  \n",
       "0  http://api.openweathermap.org/data/2.5/weather...        2.77  \n",
       "1  http://api.openweathermap.org/data/2.5/weather...        5.02  \n",
       "2  http://api.openweathermap.org/data/2.5/weather...        4.67  \n",
       "3  http://api.openweathermap.org/data/2.5/weather...        2.60  \n",
       "4  http://api.openweathermap.org/data/2.5/weather...        1.50  "
      ]
     },
     "execution_count": 105,
     "metadata": {},
     "output_type": "execute_result"
    }
   ],
   "source": [
    "df = pd.DataFrame({\n",
    "    'City':city_names,\n",
    "    'id':city_ids,\n",
    "    'max_temp':city_max_temps,\n",
    "    'humidity':city_humidities,\n",
    "    'cloudiness':city_cloudiness,\n",
    "    'wind_speed':city_wind_speeds,\n",
    "    \"longitude\":city_lon,\n",
    "    'latitude':city_lat,\n",
    "    'url':city_urls\n",
    "})\n",
    "\n",
    "df.head()"
   ]
  },
  {
   "cell_type": "code",
   "execution_count": 108,
   "metadata": {},
   "outputs": [
    {
     "ename": "FileNotFoundError",
     "evalue": "[Errno 2] No such file or directory: 'Output/city_weather.csv'",
     "output_type": "error",
     "traceback": [
      "\u001b[1;31m---------------------------------------------------------------------------\u001b[0m",
      "\u001b[1;31mFileNotFoundError\u001b[0m                         Traceback (most recent call last)",
      "\u001b[1;32m<ipython-input-108-f3be3822a616>\u001b[0m in \u001b[0;36m<module>\u001b[1;34m()\u001b[0m\n\u001b[0;32m      4\u001b[0m \u001b[1;33m\u001b[0m\u001b[0m\n\u001b[0;32m      5\u001b[0m \u001b[1;31m#save as csv file\u001b[0m\u001b[1;33m\u001b[0m\u001b[1;33m\u001b[0m\u001b[0m\n\u001b[1;32m----> 6\u001b[1;33m \u001b[0mdf\u001b[0m\u001b[1;33m.\u001b[0m\u001b[0mto_csv\u001b[0m\u001b[1;33m(\u001b[0m\u001b[1;34m\"Output/city_weather.csv\"\u001b[0m\u001b[1;33m,\u001b[0m\u001b[0mencoding\u001b[0m\u001b[1;33m=\u001b[0m\u001b[1;34m\"utf-8\"\u001b[0m\u001b[1;33m,\u001b[0m \u001b[0mindex\u001b[0m\u001b[1;33m=\u001b[0m\u001b[1;32mFalse\u001b[0m\u001b[1;33m,\u001b[0m \u001b[0mheader\u001b[0m\u001b[1;33m=\u001b[0m\u001b[1;32mTrue\u001b[0m\u001b[1;33m)\u001b[0m\u001b[1;33m\u001b[0m\u001b[0m\n\u001b[0m",
      "\u001b[1;32m~\\AppData\\Local\\Continuum\\anaconda2\\envs\\PythonData2\\lib\\site-packages\\pandas\\core\\frame.py\u001b[0m in \u001b[0;36mto_csv\u001b[1;34m(self, path_or_buf, sep, na_rep, float_format, columns, header, index, index_label, mode, encoding, compression, quoting, quotechar, line_terminator, chunksize, tupleize_cols, date_format, doublequote, escapechar, decimal)\u001b[0m\n\u001b[0;32m   1522\u001b[0m                                      \u001b[0mdoublequote\u001b[0m\u001b[1;33m=\u001b[0m\u001b[0mdoublequote\u001b[0m\u001b[1;33m,\u001b[0m\u001b[1;33m\u001b[0m\u001b[0m\n\u001b[0;32m   1523\u001b[0m                                      escapechar=escapechar, decimal=decimal)\n\u001b[1;32m-> 1524\u001b[1;33m         \u001b[0mformatter\u001b[0m\u001b[1;33m.\u001b[0m\u001b[0msave\u001b[0m\u001b[1;33m(\u001b[0m\u001b[1;33m)\u001b[0m\u001b[1;33m\u001b[0m\u001b[0m\n\u001b[0m\u001b[0;32m   1525\u001b[0m \u001b[1;33m\u001b[0m\u001b[0m\n\u001b[0;32m   1526\u001b[0m         \u001b[1;32mif\u001b[0m \u001b[0mpath_or_buf\u001b[0m \u001b[1;32mis\u001b[0m \u001b[1;32mNone\u001b[0m\u001b[1;33m:\u001b[0m\u001b[1;33m\u001b[0m\u001b[0m\n",
      "\u001b[1;32m~\\AppData\\Local\\Continuum\\anaconda2\\envs\\PythonData2\\lib\\site-packages\\pandas\\io\\formats\\format.py\u001b[0m in \u001b[0;36msave\u001b[1;34m(self)\u001b[0m\n\u001b[0;32m   1635\u001b[0m             f, handles = _get_handle(self.path_or_buf, self.mode,\n\u001b[0;32m   1636\u001b[0m                                      \u001b[0mencoding\u001b[0m\u001b[1;33m=\u001b[0m\u001b[0mencoding\u001b[0m\u001b[1;33m,\u001b[0m\u001b[1;33m\u001b[0m\u001b[0m\n\u001b[1;32m-> 1637\u001b[1;33m                                      compression=self.compression)\n\u001b[0m\u001b[0;32m   1638\u001b[0m             \u001b[0mclose\u001b[0m \u001b[1;33m=\u001b[0m \u001b[1;32mTrue\u001b[0m\u001b[1;33m\u001b[0m\u001b[0m\n\u001b[0;32m   1639\u001b[0m \u001b[1;33m\u001b[0m\u001b[0m\n",
      "\u001b[1;32m~\\AppData\\Local\\Continuum\\anaconda2\\envs\\PythonData2\\lib\\site-packages\\pandas\\io\\common.py\u001b[0m in \u001b[0;36m_get_handle\u001b[1;34m(path_or_buf, mode, encoding, compression, memory_map, is_text)\u001b[0m\n\u001b[0;32m    388\u001b[0m         \u001b[1;32melif\u001b[0m \u001b[0mencoding\u001b[0m\u001b[1;33m:\u001b[0m\u001b[1;33m\u001b[0m\u001b[0m\n\u001b[0;32m    389\u001b[0m             \u001b[1;31m# Python 3 and encoding\u001b[0m\u001b[1;33m\u001b[0m\u001b[1;33m\u001b[0m\u001b[0m\n\u001b[1;32m--> 390\u001b[1;33m             \u001b[0mf\u001b[0m \u001b[1;33m=\u001b[0m \u001b[0mopen\u001b[0m\u001b[1;33m(\u001b[0m\u001b[0mpath_or_buf\u001b[0m\u001b[1;33m,\u001b[0m \u001b[0mmode\u001b[0m\u001b[1;33m,\u001b[0m \u001b[0mencoding\u001b[0m\u001b[1;33m=\u001b[0m\u001b[0mencoding\u001b[0m\u001b[1;33m)\u001b[0m\u001b[1;33m\u001b[0m\u001b[0m\n\u001b[0m\u001b[0;32m    391\u001b[0m         \u001b[1;32melif\u001b[0m \u001b[0mis_text\u001b[0m\u001b[1;33m:\u001b[0m\u001b[1;33m\u001b[0m\u001b[0m\n\u001b[0;32m    392\u001b[0m             \u001b[1;31m# Python 3 and no explicit encoding\u001b[0m\u001b[1;33m\u001b[0m\u001b[1;33m\u001b[0m\u001b[0m\n",
      "\u001b[1;31mFileNotFoundError\u001b[0m: [Errno 2] No such file or directory: 'Output/city_weather.csv'"
     ]
    }
   ],
   "source": [
    "#remove NaN values\n",
    "df.dropna(how='any', inplace=True)\n",
    "df.head()\n",
    "\n",
    "#save as csv file\n",
    "df.to_csv(\"Output/city_weather.csv\",encoding=\"utf-8\", index=False, header=True)"
   ]
  },
  {
   "cell_type": "markdown",
   "metadata": {},
   "source": [
    "## Max Temperature (F) vs. Latitude"
   ]
  },
  {
   "cell_type": "code",
   "execution_count": 100,
   "metadata": {},
   "outputs": [
    {
     "data": {
      "image/png": "[encoded data removed]",
      "text/plain": [
       "<matplotlib.figure.Figure at 0xd5ecc18>"
      ]
     },
     "metadata": {},
     "output_type": "display_data"
    }
   ],
   "source": [
    "# Max Temperature (F) vs. Latitude\n",
    "plt.scatter(df[\"latitude\"], df[\"max_temp\"], marker=\"o\",alpha=0.7)\n",
    "\n",
    "# Incorporate the other graph properties\n",
    "plt.title(\"City Latitude vs Max Temperature\")\n",
    "plt.ylabel(\"Max Temperature(F)\")\n",
    "plt.xlabel(\"Latitude\")\n",
    "plt.grid(True)\n",
    "\n",
    "# Save the figure\n",
    "plt.savefig(\"MaxTemperatureByLatitude.png\")\n",
    "\n",
    "# Show plot\n",
    "plt.show()"
   ]
  },
  {
   "cell_type": "markdown",
   "metadata": {},
   "source": [
    "## Humidity (%) vs. Latitude"
   ]
  },
  {
   "cell_type": "code",
   "execution_count": 97,
   "metadata": {},
   "outputs": [
    {
     "data": {
      "image/png": "[encoded data removed]",
      "text/plain": [
       "<matplotlib.figure.Figure at 0xb22f278>"
      ]
     },
     "metadata": {},
     "output_type": "display_data"
    }
   ],
   "source": [
    "# Humidity(%) vs. Latitude\n",
    "plt.scatter(df[\"latitude\"], df[\"humidity\"], marker=\"o\",alpha=0.7)\n",
    "\n",
    "# Incorporate the other graph properties\n",
    "plt.title(\"City Latitude vs Humidity(%)\")\n",
    "plt.ylabel(\"Humidity(%)\")\n",
    "plt.xlabel(\"Latitude\")\n",
    "plt.grid(True)\n",
    "\n",
    "# Save the figure\n",
    "plt.savefig(\"PercentHumidityByLatitude.png\")\n",
    "\n",
    "# Show plot\n",
    "plt.show()"
   ]
  },
  {
   "cell_type": "markdown",
   "metadata": {},
   "source": [
    "## Cloudiness (%) vs. Latitude"
   ]
  },
  {
   "cell_type": "code",
   "execution_count": 98,
   "metadata": {},
   "outputs": [
    {
     "data": {
      "image/png": "[encoded data removed]",
      "text/plain": [
       "<matplotlib.figure.Figure at 0xcc1d860>"
      ]
     },
     "metadata": {},
     "output_type": "display_data"
    }
   ],
   "source": [
    "# Cloudiness(%) vs. Latitude\n",
    "plt.scatter(df[\"latitude\"], df[\"cloudiness\"], marker=\"o\",alpha=0.7)\n",
    "\n",
    "# Incorporate the other graph properties\n",
    "plt.title(\"City Latitude vs Cloudiness (%)\")\n",
    "plt.ylabel(\"Cloudiness (%)\")\n",
    "plt.xlabel(\"Latitude\")\n",
    "plt.grid(True)\n",
    "\n",
    "# Save the figure\n",
    "plt.savefig(\"PercentCloudinessByLatitude.png\")\n",
    "\n",
    "# Show plot\n",
    "plt.show()"
   ]
  },
  {
   "cell_type": "markdown",
   "metadata": {},
   "source": [
    "## Wind Speed (mph) vs. Latitude"
   ]
  },
  {
   "cell_type": "code",
   "execution_count": 99,
   "metadata": {},
   "outputs": [
    {
     "data": {
      "image/png": "[encoded data removed]",
      "text/plain": [
       "<matplotlib.figure.Figure at 0xcbf5ba8>"
      ]
     },
     "metadata": {},
     "output_type": "display_data"
    }
   ],
   "source": [
    "# Cloudiness(%) vs. Latitude\n",
    "plt.scatter(df[\"latitude\"], df[\"wind_speed\"], marker=\"o\",alpha=0.7)\n",
    "\n",
    "# Incorporate the other graph properties\n",
    "plt.title(\"City Latitude vs Wind Speed(mph)\")\n",
    "plt.ylabel(\"Wind Speed(mph)\")\n",
    "plt.xlabel(\"Latitude\")\n",
    "plt.grid(True)\n",
    "\n",
    "# Save the figure\n",
    "plt.savefig(\"WindSpeedByLatitude.png\")\n",
    "\n",
    "# Show plot\n",
    "plt.show()"
   ]
  }
 ],
 "metadata": {
  "kernelspec": {
   "display_name": "Python 3",
   "language": "python",
   "name": "python3"
  },
  "language_info": {
   "codemirror_mode": {
    "name": "ipython",
    "version": 3
   },
   "file_extension": ".py",
   "mimetype": "text/x-python",
   "name": "python",
   "nbconvert_exporter": "python",
   "pygments_lexer": "ipython3",
   "version": "3.6.4"
  }
 },
 "nbformat": 4,
 "nbformat_minor": 2
}
